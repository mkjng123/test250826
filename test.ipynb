{
  "cells": [
    {
      "cell_type": "markdown",
      "metadata": {
        "id": "view-in-github",
        "colab_type": "text"
      },
      "source": [
        "<a href=\"https://colab.research.google.com/github/mkjng123/test250826/blob/main/test.ipynb\" target=\"_parent\"><img src=\"https://colab.research.google.com/assets/colab-badge.svg\" alt=\"Open In Colab\"/></a>"
      ]
    },
    {
      "cell_type": "code",
      "source": [
        "\n",
        "import pandas as pd\n",
        "import requests\n",
        "\n",
        "def get_year_months():\n",
        "    year_months = []\n",
        "    for year in range(2015, 2015+1): #2015년~2024년\n",
        "        for month in range(1, 2+1): #1월~12월\n",
        "            year_months.append(f'{year}/{month:02d}')\n",
        "    return year_months\n",
        "\n",
        "# 계절 구분 함수\n",
        "def get_season(month):\n",
        "    if month in [3, 4, 5]:\n",
        "        return '봄'\n",
        "    elif month in [6, 7, 8]:\n",
        "        return '여름'\n",
        "    elif month in [9, 10, 11]:\n",
        "        return '가을'\n",
        "    else:\n",
        "        return '겨울'\n",
        "\n",
        "#데이터 모을 곳\n",
        "responses = []\n",
        "\n",
        "#2015/01~2024/12 기간 동안의 데이터 호출 & 데이터 모으기\n",
        "for year_month in get_year_months():\n",
        "    url = 'http://openapi.seoul.go.kr:8088/6e474a4b4e6d6b6a393847566b7942/json/energyUseDataSummaryInfo/1/5'\n",
        "    url = url + '/' + year_month\n",
        "\n",
        "    #데이터 호출\n",
        "    response = requests.get(url)\n",
        "\n",
        "    if response.status_code == 200:\n",
        "        #호출 성공 시 문구 출력\n",
        "        #print(year_month, \", API 호출 성공\")\n",
        "        #print(response.json())\n",
        "\n",
        "        #데이터 모으기\n",
        "        data = response.json()['energyUseDataSummaryInfo']['row']\n",
        "        df = pd.DataFrame(data)\n",
        "        responses.append(df)\n",
        "\n",
        "\n",
        "        #아뭔가!!!! 2015 01 02 03 데이터 모은다음에 sum 하면 되는거 같은데\n",
        "        #month가 01 02 03 인 경우 합쳐서 df_season 으로 묶기\n",
        "        #03, 06, 09, 12 월 지날때마다 sum 해서 responses에 넣고 초기화\n",
        "\n",
        "\n",
        "    else :\n",
        "        print(f'API 호출 실패: {response.status_code}')\n",
        "\n",
        "#print(responses)\n",
        "\n",
        "# 여러 데이터프레임 병합 (행 방향 concat)\n",
        "merged_df = pd.concat(responses, ignore_index=True)\\\n",
        "\n",
        "#YEAR, MON, MM_TYPE 으로 소팅 후 병합>?\n",
        "#print(merged_df.sort_values(by = 'MM_TYPE'))\n",
        "\n",
        "#print(merged_df.sort_values(by = 'MM_TYPE').merged_df['MM_TYPE'].sum())\n",
        "print(merged_df['MM_TYPE'].sort_values().sum())\n",
        "\n",
        "#print(merged_df)\n"
      ],
      "metadata": {
        "colab": {
          "base_uri": "https://localhost:8080/"
        },
        "id": "68NWkrkgNCdC",
        "outputId": "1fb10eb3-4d24-42b4-c03c-ef0c72a22e9a"
      },
      "execution_count": 3,
      "outputs": [
        {
          "output_type": "stream",
          "name": "stdout",
          "text": [
            "개인개인공공기관공동주택관리소기업소상공인소상공인종교단체종교단체학교\n"
          ]
        }
      ]
    }
  ],
  "metadata": {
    "colab": {
      "provenance": [],
      "include_colab_link": true
    },
    "kernelspec": {
      "display_name": "Python 3",
      "name": "python3"
    },
    "language_info": {
      "name": "python"
    }
  },
  "nbformat": 4,
  "nbformat_minor": 0
}